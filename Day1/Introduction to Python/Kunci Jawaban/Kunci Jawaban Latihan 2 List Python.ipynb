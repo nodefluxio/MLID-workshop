{
 "cells": [
  {
   "cell_type": "markdown",
   "metadata": {},
   "source": [
    "(1) Lihat Petunjuk di bawah ini"
   ]
  },
  {
   "cell_type": "code",
   "execution_count": 1,
   "metadata": {},
   "outputs": [
    {
     "name": "stdout",
     "output_type": "stream",
     "text": [
      "[11.25, 18.0, 20.0, 10.75, 9.5]\n"
     ]
    }
   ],
   "source": [
    "# Luas ruangan dalam meter persegi\n",
    "hall = 11.25\n",
    "kit = 18.0\n",
    "liv = 20.0\n",
    "bed = 10.75\n",
    "bath = 9.50\n",
    "\n",
    "# Buatlah list dengan nama area berdasarkan variabel diatas dan print area\n",
    "area = [hall, kit, liv, bed, bath]\n",
    "print(area)"
   ]
  },
  {
   "cell_type": "markdown",
   "metadata": {},
   "source": [
    "(2)\n",
    "- Buatlah list dengan nama variabel area_2 kemudian sisipkan \"Hallway\", \"Kitchen\", \"Living Room\", \"Bed Room\", dan \"Bath Room\" sesuai dengan ukuran masing masing\n",
    "- contoh ['hallway', hall, ..., ..., ...]"
   ]
  },
  {
   "cell_type": "code",
   "execution_count": 3,
   "metadata": {},
   "outputs": [
    {
     "name": "stdout",
     "output_type": "stream",
     "text": [
      "['Hallway', 11.25, 'Kitchen', 18.0, 'Living Room', 20.0, 'Bed Room', 10.75, 'Bath Room', 9.5]\n"
     ]
    }
   ],
   "source": [
    "area_2 = ['Hallway', hall, 'Kitchen', kit, 'Living Room', liv, 'Bed Room', bed, 'Bath Room', bath]\n",
    "print(area_2)"
   ]
  },
  {
   "cell_type": "markdown",
   "metadata": {},
   "source": [
    "(3)\n",
    "- A. [1, 3, 4, 2] B. [[1, 2, 3], [4, 5, 7]] C. [1 + 2, \"a\" * 5, 3]\n",
    "- Manakah yang bisa dikatakan membuat list yang benar?\n",
    "- A, B, C\n",
    "- B\n",
    "- B dan C\n",
    "- C"
   ]
  },
  {
   "cell_type": "code",
   "execution_count": 3,
   "metadata": {
    "collapsed": true
   },
   "outputs": [],
   "source": [
    "# A"
   ]
  },
  {
   "cell_type": "markdown",
   "metadata": {},
   "source": [
    "(4) Selesaikan list of list dari rumah di bawah ini, kemudian print rumah serta tipe data dari rumah"
   ]
  },
  {
   "cell_type": "code",
   "execution_count": 4,
   "metadata": {},
   "outputs": [
    {
     "name": "stdout",
     "output_type": "stream",
     "text": [
      "[['Hallway', 11.25], ['Kitchen', 18.0], ['Living Room', 20.0], ['Bed Room', 10.75], ['Bath Room', 9.5]]\n",
      "<class 'list'>\n"
     ]
    }
   ],
   "source": [
    "rumah = [['Hallway', hall],\n",
    "         ['Kitchen',kit],\n",
    "         ['Living Room', liv],\n",
    "         ['Bed Room', bed],\n",
    "         ['Bath Room', bath]\n",
    "        ]\n",
    "print(rumah)\n",
    "print(type(rumah))"
   ]
  },
  {
   "cell_type": "markdown",
   "metadata": {},
   "source": [
    "(5) Selesaikan permasalahan di bawah ini"
   ]
  },
  {
   "cell_type": "code",
   "execution_count": 5,
   "metadata": {},
   "outputs": [
    {
     "name": "stdout",
     "output_type": "stream",
     "text": [
      "11.25\n",
      "9.5\n",
      "living room\n"
     ]
    }
   ],
   "source": [
    "area_3 = [\"hallway\", 11.25, \"kitchen\", 18.0, \"living room\", 20.0, \"bedroom\", 10.75, \"bathroom\", 9.50]\n",
    "\n",
    "# Print elemen kedua dari area_3\n",
    "print(area_3[1])\n",
    "\n",
    "# Print elemen terakhir dari area_3\n",
    "print(area_3[-1])\n",
    "\n",
    "# Print area dari \"living room\n",
    "\n",
    "print(area_3[4])"
   ]
  },
  {
   "cell_type": "markdown",
   "metadata": {},
   "source": [
    "(6) Selesaikan permasalah di bawah ini"
   ]
  },
  {
   "cell_type": "code",
   "execution_count": 7,
   "metadata": {},
   "outputs": [
    {
     "name": "stdout",
     "output_type": "stream",
     "text": [
      "28.75\n"
     ]
    }
   ],
   "source": [
    "area_3 = [\"hallway\", 11.25, \"kitchen\", 18.0, \"living room\", 20.0, \"bedroom\", 10.75, \"bathroom\", 9.50]\n",
    "\n",
    "# Jumlahkan area kitchen dan bedroom kedalam variabel area_makan_favorit\n",
    "area_makanan_favorit = area_3[3] + area_3[7]\n",
    "\n",
    "# Print variabel area_makan_favorit\n",
    "print(area_makanan_favorit)\n"
   ]
  },
  {
   "cell_type": "markdown",
   "metadata": {},
   "source": [
    "(7) Selesaikan permasalahan di bawah ini"
   ]
  },
  {
   "cell_type": "code",
   "execution_count": 12,
   "metadata": {},
   "outputs": [
    {
     "name": "stdout",
     "output_type": "stream",
     "text": [
      "['hallway', 11.25, 'kitchen', 18.0, 'living room', 20.0]\n",
      "['bedroom', 10.75, 'bathroom', 9.5]\n"
     ]
    }
   ],
   "source": [
    "area_3 = [\"hallway\", 11.25, \"kitchen\", 18.0, \"living room\", 20.0, \"bedroom\", 10.75, \"bathroom\", 9.50]\n",
    "\n",
    "# Guanakan slicing untuk menyimpan 6 elemen pertama dari area_3 simpan pada variabel lantai_1\n",
    "lantai_1 = area_3[0:6]\n",
    "\n",
    "# Gunakan slicing untuk menyimpan 4 elemen terakhir dari area_3 simpan pada variabel lantai_2\n",
    "lantai_2 = area_3[-4:]\n",
    "\n",
    "# Print lantai_1 dan lantai_2\n",
    "print(lantai_1)\n",
    "print(lantai_2)"
   ]
  },
  {
   "cell_type": "markdown",
   "metadata": {},
   "source": [
    "(8) Lihat contoh di bawah ini print hasilnya"
   ]
  },
  {
   "cell_type": "code",
   "execution_count": 9,
   "metadata": {},
   "outputs": [
    {
     "name": "stdout",
     "output_type": "stream",
     "text": [
      "g\n"
     ]
    },
    {
     "data": {
      "text/plain": [
       "['g', 'h']"
      ]
     },
     "execution_count": 9,
     "metadata": {},
     "output_type": "execute_result"
    }
   ],
   "source": [
    "x = [[\"a\", \"b\", \"c\"],\n",
    "     [\"d\", \"e\", \"f\"],\n",
    "     [\"g\", \"h\", \"i\"]]\n",
    "\n",
    "print(x[2][0])\n",
    "x[2][:2]\n"
   ]
  },
  {
   "cell_type": "markdown",
   "metadata": {},
   "source": [
    "(9) Selesaikan permasalahan di bawah ini"
   ]
  },
  {
   "cell_type": "code",
   "execution_count": 10,
   "metadata": {},
   "outputs": [
    {
     "name": "stdout",
     "output_type": "stream",
     "text": [
      "['hallway', 11.25, 'kitchen', 18.0, 'ruang tamu', 20.0, 'bedroom', 10.75, 'bathroom', 10.8]\n"
     ]
    }
   ],
   "source": [
    "area_3 = [\"hallway\", 11.25, \"kitchen\", 18.0, \"living room\", 20.0, \"bedroom\", 10.75, \"bathroom\", 9.50]\n",
    "\n",
    "# Ganti nilai dari \"bathroom\" menjadi 10.8\n",
    "\n",
    "area_3[-1] = 10.8\n",
    "\n",
    "# Ganti \"living room\" menjadi \"ruang tamu\"\n",
    "area_3[4] = \"ruang tamu\"\n",
    "print(area_3)\n"
   ]
  },
  {
   "cell_type": "markdown",
   "metadata": {},
   "source": [
    "(10) Selesaikan permasalahan di bawah ini"
   ]
  },
  {
   "cell_type": "code",
   "execution_count": 11,
   "metadata": {},
   "outputs": [
    {
     "name": "stdout",
     "output_type": "stream",
     "text": [
      "['hallway', 11.25, 'kitchen', 18.0, 'chill zone', 20.0, 'bedroom', 10.75, 'bathroom', 10.5, 'poolhouse', 24.5]\n",
      "['hallway', 11.25, 'kitchen', 18.0, 'chill zone', 20.0, 'bedroom', 10.75, 'bathroom', 10.5, 'poolhouse', 24.5, 'garage', 15.45]\n"
     ]
    }
   ],
   "source": [
    "area_3 = [\"hallway\", 11.25, \"kitchen\", 18.0, \"chill zone\", 20.0,\n",
    "         \"bedroom\", 10.75, \"bathroom\", 10.50]\n",
    "\n",
    "# Tambahkan list ['poolhouse', 24.5] kedalam area_3 beri nama variabel baru area_3_1\n",
    "area_3_1 = area_3 + ['poolhouse', 24.5]\n",
    "\n",
    "# Tambahkan list dari ['garage', 15.45] ke dalam area_3_1 beri nama variabel baru area_3_2\n",
    "area_3_2 = area_3_1 + ['garage', 15.45]\n",
    "\n",
    "print(area_3_1)\n",
    "print(area_3_2)"
   ]
  },
  {
   "cell_type": "markdown",
   "metadata": {},
   "source": [
    "(11) Selesaikan permasalahan di bawah ini"
   ]
  },
  {
   "cell_type": "code",
   "execution_count": 14,
   "metadata": {},
   "outputs": [
    {
     "data": {
      "text/plain": [
       "['hallway',\n",
       " 11.25,\n",
       " 'kitchen',\n",
       " 18.0,\n",
       " 'chill zone',\n",
       " 20.0,\n",
       " 'bedroom',\n",
       " 10.75,\n",
       " 'bathroom',\n",
       " 10.5]"
      ]
     },
     "execution_count": 14,
     "metadata": {},
     "output_type": "execute_result"
    }
   ],
   "source": [
    "area_3 = [\"hallway\", 11.25, \"kitchen\", 18.0,\n",
    "        \"chill zone\", 20.0, \"bedroom\", 10.75,\n",
    "         \"bathroom\", 10.50, \"poolhouse\", 24.5,\n",
    "         \"garage\", 15.45]\n",
    "\n",
    "# Silahkan hapus 4 elemen terakhir\n",
    "del(area_3[-4:])\n",
    "area_3\n"
   ]
  },
  {
   "cell_type": "code",
   "execution_count": null,
   "metadata": {
    "collapsed": true
   },
   "outputs": [],
   "source": []
  }
 ],
 "metadata": {
  "kernelspec": {
   "display_name": "Python 3",
   "language": "python",
   "name": "python3"
  },
  "language_info": {
   "codemirror_mode": {
    "name": "ipython",
    "version": 3
   },
   "file_extension": ".py",
   "mimetype": "text/x-python",
   "name": "python",
   "nbconvert_exporter": "python",
   "pygments_lexer": "ipython3",
   "version": "3.6.1"
  }
 },
 "nbformat": 4,
 "nbformat_minor": 2
}
