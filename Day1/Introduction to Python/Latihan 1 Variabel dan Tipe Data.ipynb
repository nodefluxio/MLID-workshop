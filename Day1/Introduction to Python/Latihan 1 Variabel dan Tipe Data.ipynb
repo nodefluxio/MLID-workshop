{
 "cells": [
  {
   "cell_type": "markdown",
   "metadata": {},
   "source": [
    "(1). Silahkan print(8 / 7) dan berikan *comment* # Ini adalah pembagian, lihat contoh di bawah ini"
   ]
  },
  {
   "cell_type": "code",
   "execution_count": 1,
   "metadata": {},
   "outputs": [
    {
     "name": "stdout",
     "output_type": "stream",
     "text": [
      "32\n"
     ]
    }
   ],
   "source": [
    "# Ini adalah perkalian\n",
    "print(4 * 8)"
   ]
  },
  {
   "cell_type": "code",
   "execution_count": 2,
   "metadata": {
    "collapsed": true
   },
   "outputs": [],
   "source": [
    "# Jawaban ada disini"
   ]
  },
  {
   "cell_type": "markdown",
   "metadata": {},
   "source": [
    "#### Python sebagai kalkulator"
   ]
  },
  {
   "cell_type": "markdown",
   "metadata": {},
   "source": [
    "(2) Lihat beberapa contoh di bawah ini"
   ]
  },
  {
   "cell_type": "code",
   "execution_count": 3,
   "metadata": {},
   "outputs": [
    {
     "name": "stdout",
     "output_type": "stream",
     "text": [
      "10\n",
      "0\n",
      "15\n",
      "5.0\n",
      "16\n",
      "4\n"
     ]
    }
   ],
   "source": [
    "# Penambahan dan pengurangan\n",
    "print(5 + 5)\n",
    "print(5 - 5)\n",
    "\n",
    "# Perkalian dan pembagian\n",
    "print(3 * 5)\n",
    "print(10 / 2)\n",
    "\n",
    "# Perpangkatan\n",
    "print(4 ** 2)\n",
    "\n",
    "# Pembagian Modulo\n",
    "print(18 % 7)\n"
   ]
  },
  {
   "cell_type": "markdown",
   "metadata": {},
   "source": [
    "Jika kamu memilik uang seratus ribu rupiah di bank dan bank memberikan bunga 10 persen setiap tahunnya, berapakah uang yang kamu dapat dalam 7 tahun? Gunakan Python menjawabnya"
   ]
  },
  {
   "cell_type": "code",
   "execution_count": 4,
   "metadata": {
    "collapsed": true
   },
   "outputs": [],
   "source": [
    "# Jawab disini"
   ]
  },
  {
   "cell_type": "markdown",
   "metadata": {},
   "source": [
    "(3) Buat variabel simpanan dengan nilai 100000, kemudian print variabel simpanan"
   ]
  },
  {
   "cell_type": "code",
   "execution_count": 5,
   "metadata": {
    "collapsed": true
   },
   "outputs": [],
   "source": [
    "# Jawab disini"
   ]
  },
  {
   "cell_type": "markdown",
   "metadata": {},
   "source": [
    "(4)\n",
    "- Buat variable faktor = 1.10\n",
    "- Gunakan variabel simpanan dan faktor untuk menentukan berapa hasil yang didapat dalam 10 tahun dan simpan dalam variabel hasil\n",
    "- print hasil"
   ]
  },
  {
   "cell_type": "code",
   "execution_count": 6,
   "metadata": {
    "collapsed": true
   },
   "outputs": [],
   "source": [
    "# Jawab disini"
   ]
  },
  {
   "cell_type": "markdown",
   "metadata": {},
   "source": [
    "(5) \n",
    "- Kalikan simpanan dan faktor dan simpan dalam variabel hasil_1\n",
    "- Apakah tipe data dari hasil 1? Silahkan print tipe datanya\n",
    "- Buatlah variabel desc = \"Sains Data\"\n",
    "- Jumlahkan desc dengan desc bagaimana hasilnya? Simpan pada variabel dobel_desc\n",
    "- print dobel_desc"
   ]
  },
  {
   "cell_type": "code",
   "execution_count": 1,
   "metadata": {
    "collapsed": true
   },
   "outputs": [],
   "source": [
    "# Jawab Disini"
   ]
  },
  {
   "cell_type": "markdown",
   "metadata": {},
   "source": [
    "#### Konversi tipe data / casting"
   ]
  },
  {
   "cell_type": "markdown",
   "metadata": {},
   "source": [
    "Kamu bisa merubah tipe data seperti berikut"
   ]
  },
  {
   "cell_type": "code",
   "execution_count": 7,
   "metadata": {},
   "outputs": [
    {
     "data": {
      "text/plain": [
       "'5'"
      ]
     },
     "execution_count": 7,
     "metadata": {},
     "output_type": "execute_result"
    }
   ],
   "source": [
    "a = 5\n",
    "a_baru = str(a)\n",
    "a_baru"
   ]
  },
  {
   "cell_type": "code",
   "execution_count": 8,
   "metadata": {},
   "outputs": [
    {
     "data": {
      "text/plain": [
       "str"
      ]
     },
     "execution_count": 8,
     "metadata": {},
     "output_type": "execute_result"
    }
   ],
   "source": [
    "type(a_baru)\n"
   ]
  },
  {
   "cell_type": "code",
   "execution_count": 9,
   "metadata": {},
   "outputs": [
    {
     "data": {
      "text/plain": [
       "300"
      ]
     },
     "execution_count": 9,
     "metadata": {},
     "output_type": "execute_result"
    }
   ],
   "source": [
    "b = '300'\n",
    "b_baru = int(b)\n",
    "b_baru"
   ]
  },
  {
   "cell_type": "code",
   "execution_count": 10,
   "metadata": {},
   "outputs": [
    {
     "data": {
      "text/plain": [
       "int"
      ]
     },
     "execution_count": 10,
     "metadata": {},
     "output_type": "execute_result"
    }
   ],
   "source": [
    "type(b_baru)"
   ]
  },
  {
   "cell_type": "markdown",
   "metadata": {},
   "source": [
    "(6).\n",
    "Lihat error di bawah ini bagaiman kamu menyelesaikannya?"
   ]
  },
  {
   "cell_type": "code",
   "execution_count": 13,
   "metadata": {},
   "outputs": [
    {
     "ename": "TypeError",
     "evalue": "must be str, not int",
     "output_type": "error",
     "traceback": [
      "\u001b[0;31m---------------------------------------------------------------------------\u001b[0m",
      "\u001b[0;31mTypeError\u001b[0m                                 Traceback (most recent call last)",
      "\u001b[0;32m<ipython-input-13-af3032cd1a05>\u001b[0m in \u001b[0;36m<module>\u001b[0;34m()\u001b[0m\n\u001b[1;32m      4\u001b[0m \u001b[0;34m\u001b[0m\u001b[0m\n\u001b[1;32m      5\u001b[0m \u001b[0;31m# Fix the printout\u001b[0m\u001b[0;34m\u001b[0m\u001b[0;34m\u001b[0m\u001b[0m\n\u001b[0;32m----> 6\u001b[0;31m \u001b[0mprint\u001b[0m\u001b[0;34m(\u001b[0m\u001b[0;34m\"Uang saya awalnya\"\u001b[0m \u001b[0;34m+\u001b[0m \u001b[0msimpanan_x\u001b[0m \u001b[0;34m+\u001b[0m \u001b[0;34m\" dan saya sekarang punya \"\u001b[0m \u001b[0;34m+\u001b[0m \u001b[0mhasil_x\u001b[0m \u001b[0;34m+\u001b[0m \u001b[0;34m\". Kueren cak\"\u001b[0m\u001b[0;34m)\u001b[0m\u001b[0;34m\u001b[0m\u001b[0m\n\u001b[0m",
      "\u001b[0;31mTypeError\u001b[0m: must be str, not int"
     ]
    }
   ],
   "source": [
    "# Simpanan dan hasil\n",
    "simpanan_x = 100000\n",
    "hasil_x = 100000 * 1.10 ** 7\n",
    "\n",
    "# Fix the printout\n",
    "print(\"Uang saya awalnya\" + simpanan_x + \" dan saya sekarang punya \" + hasil_x + \". Kueren cak\")\n"
   ]
  },
  {
   "cell_type": "code",
   "execution_count": 14,
   "metadata": {
    "collapsed": true
   },
   "outputs": [],
   "source": [
    "# Selesaikan juga ini\n",
    "pi_string = \"3.1415926\"\n",
    "\n",
    "# Konversi pi_string menjadi float simpan dalam variabel pi_float dan kemudian print\n",
    "# Jawba disini"
   ]
  }
 ],
 "metadata": {
  "kernelspec": {
   "display_name": "Python 3",
   "language": "python",
   "name": "python3"
  },
  "language_info": {
   "codemirror_mode": {
    "name": "ipython",
    "version": 3
   },
   "file_extension": ".py",
   "mimetype": "text/x-python",
   "name": "python",
   "nbconvert_exporter": "python",
   "pygments_lexer": "ipython3",
   "version": "3.6.1"
  }
 },
 "nbformat": 4,
 "nbformat_minor": 2
}
