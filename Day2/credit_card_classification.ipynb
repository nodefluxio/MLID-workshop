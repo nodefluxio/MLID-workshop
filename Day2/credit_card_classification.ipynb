{
 "cells": [
  {
   "cell_type": "code",
   "execution_count": 1,
   "metadata": {},
   "outputs": [],
   "source": [
    "import pandas as pd\n",
    "import numpy as np\n",
    "from sklearn.preprocessing import MinMaxScaler\n",
    "from sklearn.svm import SVC\n",
    "from sklearn.model_selection import cross_val_score\n",
    "from sklearn.model_selection import train_test_split\n",
    "from sklearn.metrics import confusion_matrix\n",
    "import itertools\n",
    "from sklearn.decomposition import PCA"
   ]
  },
  {
   "cell_type": "markdown",
   "metadata": {},
   "source": [
    "# Taiwan Credit Card Default Dataset\n",
    "\n",
    "This dataset is given to aimed at the case of customers default payments in Taiwan and compares the predictive accuracy of probability of default.\n",
    "\n",
    "## Attribute Information\n",
    "\n",
    "This research employed a binary variable, default payment (Yes = 1, No = 0), as the response variable. This study reviewed the literature and used the following 23 variables as explanatory variables: \n",
    "\n",
    "* X1: Amount of the given credit (NT dollar): it includes both the individual consumer credit and his/her family (supplementary) credit. \n",
    "* X2: Gender (1 = male; 2 = female). \n",
    "* X3: Education (1 = graduate school; 2 = university; 3 = high school; 4 = others). \n",
    "* X4: Marital status (1 = married; 2 = single; 3 = others). \n",
    "* X5: Age (year). \n",
    "* X6 - X11: History of past payment. We tracked the past monthly payment records (from April to September, 2005) as follows: X6 = the repayment status in September, 2005; X7 = the repayment status in August, 2005; . . .;X11 = the repayment status in April, 2005. The measurement scale for the repayment status is: -1 = pay duly; 1 = payment delay for one month; 2 = payment delay for two months; . . .; 8 = payment delay for eight months; 9 = payment delay for nine months and above.\n",
    "* X12-X17: Amount of bill statement (NT dollar). X12 = amount of bill statement in September, 2005; X13 = amount of bill statement in August, 2005; . . .; X17 = amount of bill statement in April, 2005. \n",
    "* X18-X23: Amount of previous payment (NT dollar). X18 = amount paid in September, 2005; X19 = amount paid in August, 2005; . . .;X23 = amount paid in April, 2005. "
   ]
  },
  {
   "cell_type": "code",
   "execution_count": 2,
   "metadata": {},
   "outputs": [
    {
     "name": "stdout",
     "output_type": "stream",
     "text": [
      "   ID  LIMIT_BAL  SEX  EDUCATION  MARRIAGE  AGE  PAY_0  PAY_2  PAY_3  PAY_4  \\\n",
      "0   1      20000    2          2         1   24      2      2     -1     -1   \n",
      "1   2     120000    2          2         2   26     -1      2      0      0   \n",
      "2   3      90000    2          2         2   34      0      0      0      0   \n",
      "3   4      50000    2          2         1   37      0      0      0      0   \n",
      "4   5      50000    1          2         1   57     -1      0     -1      0   \n",
      "\n",
      "              ...              BILL_AMT4  BILL_AMT5  BILL_AMT6  PAY_AMT1  \\\n",
      "0             ...                      0          0          0         0   \n",
      "1             ...                   3272       3455       3261         0   \n",
      "2             ...                  14331      14948      15549      1518   \n",
      "3             ...                  28314      28959      29547      2000   \n",
      "4             ...                  20940      19146      19131      2000   \n",
      "\n",
      "   PAY_AMT2  PAY_AMT3  PAY_AMT4  PAY_AMT5  PAY_AMT6  \\\n",
      "0       689         0         0         0         0   \n",
      "1      1000      1000      1000         0      2000   \n",
      "2      1500      1000      1000      1000      5000   \n",
      "3      2019      1200      1100      1069      1000   \n",
      "4     36681     10000      9000       689       679   \n",
      "\n",
      "   default payment next month  \n",
      "0                           1  \n",
      "1                           1  \n",
      "2                           0  \n",
      "3                           0  \n",
      "4                           0  \n",
      "\n",
      "[5 rows x 25 columns]\n"
     ]
    }
   ],
   "source": [
    "## Load xls data into pandas dataframe\n",
    "raw_df=pd.read_excel(\"case_example/default_credit_dataset/default of credit card clients.xls\",skiprows=1)\n",
    "print raw_df.head()"
   ]
  },
  {
   "cell_type": "code",
   "execution_count": 3,
   "metadata": {},
   "outputs": [
    {
     "name": "stdout",
     "output_type": "stream",
     "text": [
      "   LIMIT_BAL  SEX  EDUCATION  MARRIAGE  AGE  PAY_0  PAY_2  PAY_3  PAY_4  \\\n",
      "0      20000    2          2         1   24      2      2     -1     -1   \n",
      "1     120000    2          2         2   26     -1      2      0      0   \n",
      "2      90000    2          2         2   34      0      0      0      0   \n",
      "3      50000    2          2         1   37      0      0      0      0   \n",
      "4      50000    1          2         1   57     -1      0     -1      0   \n",
      "\n",
      "   PAY_5    ...     BILL_AMT3  BILL_AMT4  BILL_AMT5  BILL_AMT6  PAY_AMT1  \\\n",
      "0     -2    ...           689          0          0          0         0   \n",
      "1      0    ...          2682       3272       3455       3261         0   \n",
      "2      0    ...         13559      14331      14948      15549      1518   \n",
      "3      0    ...         49291      28314      28959      29547      2000   \n",
      "4      0    ...         35835      20940      19146      19131      2000   \n",
      "\n",
      "   PAY_AMT2  PAY_AMT3  PAY_AMT4  PAY_AMT5  PAY_AMT6  \n",
      "0       689         0         0         0         0  \n",
      "1      1000      1000      1000         0      2000  \n",
      "2      1500      1000      1000      1000      5000  \n",
      "3      2019      1200      1100      1069      1000  \n",
      "4     36681     10000      9000       689       679  \n",
      "\n",
      "[5 rows x 23 columns]\n"
     ]
    }
   ],
   "source": [
    "## Extract features column\n",
    "features_column=raw_df.drop(columns=['ID','default payment next month'])\n",
    "\n",
    "print features_column.head()"
   ]
  },
  {
   "cell_type": "code",
   "execution_count": 4,
   "metadata": {},
   "outputs": [
    {
     "name": "stdout",
     "output_type": "stream",
     "text": [
      "0    1\n",
      "1    1\n",
      "2    0\n",
      "3    0\n",
      "4    0\n",
      "Name: default payment next month, dtype: int64\n"
     ]
    }
   ],
   "source": [
    "## Extract label column\n",
    "label_column=raw_df['default payment next month']\n",
    "\n",
    "print label_column.head()"
   ]
  },
  {
   "cell_type": "code",
   "execution_count": 5,
   "metadata": {},
   "outputs": [
    {
     "name": "stdout",
     "output_type": "stream",
     "text": [
      "Total Features = 23\n",
      "Total Data = 30000\n",
      "Original vectors\n",
      "[[ 20000      2      2      1     24]\n",
      " [120000      2      2      2     26]\n",
      " [ 90000      2      2      2     34]\n",
      " [ 50000      2      2      1     37]\n",
      " [ 50000      1      2      1     57]]\n",
      "Normalized vectors\n",
      "[[ 0.02        1.          0.33333334  0.33333334  0.30379745]\n",
      " [ 0.12        1.          0.33333334  0.66666669  0.32911393]\n",
      " [ 0.09        1.          0.33333334  0.66666669  0.43037975]\n",
      " [ 0.05        1.          0.33333334  0.33333334  0.46835443]\n",
      " [ 0.05        0.5         0.33333334  0.33333334  0.72151899]]\n"
     ]
    }
   ],
   "source": [
    "## Transform features dataframe into matrix\n",
    "features_vectors=features_column.as_matrix()\n",
    "\n",
    "print 'Total Features = %i'%(features_vectors.shape[1])\n",
    "print 'Total Data = %i'%(features_vectors.shape[0])\n",
    "\n",
    "## Normalize features vectors\n",
    "normed_features_vectors = features_vectors.astype('float32') / features_vectors.astype('float32').max(axis=0)\n",
    "\n",
    "print 'Original vectors'\n",
    "print features_vectors[:5,:5] # SHowed only first 5 column and first 5 features\n",
    "\n",
    "print 'Normalized vectors'\n",
    "print normed_features_vectors[:5,:5]"
   ]
  },
  {
   "cell_type": "code",
   "execution_count": 6,
   "metadata": {},
   "outputs": [
    {
     "name": "stdout",
     "output_type": "stream",
     "text": [
      "Original label vector\n",
      "[ 1.  1.  0.  0.  0.]\n"
     ]
    }
   ],
   "source": [
    "## Transform label dataframe into matrix\n",
    "label_vectors=label_column.as_matrix().astype('float32')\n",
    "\n",
    "print 'Original label vector'\n",
    "print label_vectors[:5]"
   ]
  },
  {
   "cell_type": "code",
   "execution_count": 7,
   "metadata": {},
   "outputs": [
    {
     "name": "stdout",
     "output_type": "stream",
     "text": [
      "Train data size = 21000\n",
      "Tes data size = 9000\n"
     ]
    },
    {
     "data": {
      "text/plain": [
       "SVC(C=5, cache_size=200, class_weight=None, coef0=0.0,\n",
       "  decision_function_shape='ovr', degree=3, gamma='auto', kernel='linear',\n",
       "  max_iter=-1, probability=False, random_state=None, shrinking=True,\n",
       "  tol=0.001, verbose=False)"
      ]
     },
     "execution_count": 7,
     "metadata": {},
     "output_type": "execute_result"
    }
   ],
   "source": [
    "## Classification using SVM\n",
    "\n",
    "## Split train and test data\n",
    "X_train, X_test, y_train, y_test = train_test_split(normed_features_vectors, label_vectors, test_size=0.3, random_state=0)\n",
    "\n",
    "print 'Train data size = %i'%(X_train.shape[0])\n",
    "print 'Tes data size = %i'%(X_test.shape[0])\n",
    "\n",
    "## Fitting the data into SVM model\n",
    "\n",
    "clf = SVC(kernel='linear', C=5)\n",
    "clf.fit(X_train, y_train) "
   ]
  },
  {
   "cell_type": "code",
   "execution_count": 8,
   "metadata": {},
   "outputs": [
    {
     "name": "stdout",
     "output_type": "stream",
     "text": [
      "Prediction result :\n",
      "[ 0.  0.  0. ...,  0.  0.  0.]\n"
     ]
    }
   ],
   "source": [
    "## Prediction result using test data\n",
    "y_pred = clf.predict(X_test)\n",
    "\n",
    "print 'Prediction result :'\n",
    "print y_pred"
   ]
  },
  {
   "cell_type": "code",
   "execution_count": 10,
   "metadata": {},
   "outputs": [
    {
     "name": "stdout",
     "output_type": "stream",
     "text": [
      "CSonfusion matrix\n",
      "[[6883  177]\n",
      " [1488  452]]\n"
     ]
    },
    {
     "data": {
      "image/png": "[encoded data removed]",
      "text/plain": [
       "<matplotlib.figure.Figure at 0x7f554d8b65d0>"
      ]
     },
     "metadata": {},
     "output_type": "display_data"
    }
   ],
   "source": [
    "import matplotlib.pyplot as plt\n",
    "## Visualizing prediction result using confusion matrix\n",
    "def plot_confusion_matrix(cm, classes,\n",
    "                          normalize=False,\n",
    "                          title='Confusion matrix',\n",
    "                          cmap=plt.cm.Blues):\n",
    "    \"\"\"\n",
    "    This function prints and plots the confusion matrix.\n",
    "    Normalization can be applied by setting `normalize=True`.\n",
    "    \"\"\"\n",
    "\n",
    "    print(\"CSonfusion matrix\")\n",
    "        \n",
    "    print(cm)\n",
    "\n",
    "    plt.imshow(cm, interpolation='nearest', cmap=cmap)\n",
    "    plt.title(title)\n",
    "    plt.colorbar()\n",
    "    tick_marks = np.arange(len(classes))\n",
    "    plt.xticks(tick_marks, classes, rotation=45)\n",
    "    plt.yticks(tick_marks, classes)\n",
    "\n",
    "    fmt = '.2f' if normalize else 'd'\n",
    "    thresh = cm.max() / 2.\n",
    "    for i, j in itertools.product(range(cm.shape[0]), range(cm.shape[1])):\n",
    "        plt.text(j, i, format(cm[i, j], fmt),\n",
    "                 horizontalalignment=\"center\",\n",
    "                 color=\"white\" if cm[i, j] > thresh else \"black\")\n",
    "\n",
    "    plt.tight_layout()\n",
    "    plt.ylabel('True label')\n",
    "    plt.xlabel('Predicted label')\n",
    "cnf_matrix = confusion_matrix(y_test, y_pred)\n",
    "\n",
    "plt.figure()\n",
    "plot_confusion_matrix(cnf_matrix, classes=['0','1'],\n",
    "                      title='Confusion matrix')\n",
    "plt.show()"
   ]
  },
  {
   "cell_type": "markdown",
   "metadata": {},
   "source": [
    "Looking from above visualization, we can know that there are many default payment data (label == 1) predicted as default payment (label == 0).\n",
    "This may be caused by imbalance dataset. The distribution of label == 1 and label == 0 is not balanced that caused the model bias towards 0"
   ]
  },
  {
   "cell_type": "code",
   "execution_count": 29,
   "metadata": {},
   "outputs": [
    {
     "data": {
      "image/png": "[encoded data removed]",
      "text/plain": [
       "<matplotlib.figure.Figure at 0x7f554da4e490>"
      ]
     },
     "metadata": {},
     "output_type": "display_data"
    }
   ],
   "source": [
    "## Visualize each label data count\n",
    "import matplotlib.pyplot as plt\n",
    "fig, ax = plt.subplots()\n",
    "\n",
    "ind = np.arange(2)  # the x locations for the groups\n",
    "width = 0.5  # the width of the bars\n",
    "\n",
    "\n",
    "total_0_data=len(np.argwhere(label_vectors==0))\n",
    "total_1_data=len(np.argwhere(label_vectors==1))\n",
    "\n",
    "total_data=np.array([total_0_data,total_1_data])\n",
    "\n",
    "ax.bar(ind, total_data, width/2,color='SkyBlue')\n",
    "\n",
    "ax.set_ylabel('Total data')\n",
    "ax.set_title('Data label distribution')\n",
    "ax.set_xticks(ind)\n",
    "ax.set_xticklabels(('label '+str(i) for i in (0,1)))\n",
    "ax.legend()"
   ]
  },
  {
   "cell_type": "code",
   "execution_count": 11,
   "metadata": {},
   "outputs": [
    {
     "name": "stdout",
     "output_type": "stream",
     "text": [
      "[ 0.80173276  0.80139953  0.80573142  0.80173276  0.80833333  0.81633333\n",
      "  0.81693898  0.81027009  0.81527176  0.81493831]\n",
      "Accuracy: 0.81 (+/- 0.01)\n"
     ]
    }
   ],
   "source": [
    "## Validating accuracy using cross validation method\n",
    "\n",
    "scores = cross_val_score(clf, normed_features_vectors, label_vectors, cv=10)\n",
    "print scores\n",
    "print(\"Accuracy: %0.2f (+/- %0.2f)\" % (scores.mean(), scores.std() * 2))"
   ]
  },
  {
   "cell_type": "code",
   "execution_count": 12,
   "metadata": {},
   "outputs": [
    {
     "name": "stdout",
     "output_type": "stream",
     "text": [
      "Matrix shape before feature dimensionality reduction :\n",
      "(30000, 23)\n",
      "Matrix shape after feature dimensionality reduction :\n",
      "(30000, 10)\n"
     ]
    }
   ],
   "source": [
    "## Trying to reduce feature dimension using PCA from 23-dim to 10-dim\n",
    "pca = PCA(n_components=10)\n",
    "reduced_features_10=pca.fit_transform(normed_features_vectors)\n",
    "\n",
    "print 'Matrix shape before feature dimensionality reduction :'\n",
    "print normed_features_vectors.shape\n",
    "print 'Matrix shape after feature dimensionality reduction :'\n",
    "print reduced_features_10.shape"
   ]
  },
  {
   "cell_type": "code",
   "execution_count": 13,
   "metadata": {},
   "outputs": [
    {
     "name": "stdout",
     "output_type": "stream",
     "text": [
      "[ 0.80173276  0.80139953  0.80573142  0.8023992   0.80766667  0.81533333\n",
      "  0.8186062   0.81060353  0.81493831  0.81493831]\n",
      "Accuracy: 0.81 (+/- 0.01)\n"
     ]
    }
   ],
   "source": [
    "## Validating accuracy using cross validation method after feature dimensionality reduction\n",
    "\n",
    "scores = cross_val_score(clf, reduced_features_10, label_vectors, cv=10)\n",
    "print scores\n",
    "print(\"Accuracy: %0.2f (+/- %0.2f)\" % (scores.mean(), scores.std() * 2))"
   ]
  },
  {
   "cell_type": "code",
   "execution_count": 14,
   "metadata": {},
   "outputs": [
    {
     "name": "stdout",
     "output_type": "stream",
     "text": [
      "Matrix shape before feature dimensionality reduction :\n",
      "(30000, 23)\n",
      "Matrix shape after feature dimensionality reduction :\n",
      "(30000, 5)\n"
     ]
    }
   ],
   "source": [
    "## Trying to reduce feature dimension using PCA from 23-dim to 5-dim\n",
    "pca = PCA(n_components=5)\n",
    "reduced_features_5=pca.fit_transform(normed_features_vectors)\n",
    "\n",
    "print 'Matrix shape before feature dimensionality reduction :'\n",
    "print normed_features_vectors.shape\n",
    "print 'Matrix shape after feature dimensionality reduction :'\n",
    "print reduced_features_5.shape"
   ]
  },
  {
   "cell_type": "code",
   "execution_count": 16,
   "metadata": {},
   "outputs": [
    {
     "name": "stdout",
     "output_type": "stream",
     "text": [
      "[ 0.77874042  0.77874042  0.77874042  0.77874042  0.77866667  0.77866667\n",
      "  0.77892631  0.77892631  0.77892631  0.77892631]\n",
      "Accuracy: 0.78 (+/- 0.00)\n"
     ]
    }
   ],
   "source": [
    "## Validating accuracy using cross validation method after feature dimensionality reduction\n",
    "\n",
    "scores = cross_val_score(clf, reduced_features_5, label_vectors, cv=10)\n",
    "print scores\n",
    "print(\"Accuracy: %0.2f (+/- %0.2f)\" % (scores.mean(), scores.std() * 2))"
   ]
  }
 ],
 "metadata": {
  "kernelspec": {
   "display_name": "Python 2",
   "language": "python",
   "name": "python2"
  },
  "language_info": {
   "codemirror_mode": {
    "name": "ipython",
    "version": 2
   },
   "file_extension": ".py",
   "mimetype": "text/x-python",
   "name": "python",
   "nbconvert_exporter": "python",
   "pygments_lexer": "ipython2",
   "version": "2.7.12"
  }
 },
 "nbformat": 4,
 "nbformat_minor": 2
}
