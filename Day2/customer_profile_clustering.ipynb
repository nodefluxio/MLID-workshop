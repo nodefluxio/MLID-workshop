{
 "cells": [
  {
   "cell_type": "code",
   "execution_count": 2,
   "metadata": {},
   "outputs": [],
   "source": [
    "import pandas as pd\n",
    "import numpy as np\n",
    "from sklearn.preprocessing import MinMaxScaler\n",
    "from sklearn.cluster import KMeans\n",
    "from sklearn.manifold import TSNE\n",
    "import random\n"
   ]
  },
  {
   "cell_type": "markdown",
   "metadata": {},
   "source": [
    "# UK Retail Dataset\n",
    "\n",
    "This is a transnational data set which contains all the transactions occurring between 01/12/2010 and 09/12/2011 for a UK-based and registered non-store online retail.The company mainly sells unique all-occasion gifts. Many customers of the company are wholesalers.\n",
    "\n",
    "The available data field :\n",
    "* InvoiceNo: Invoice number. Nominal, a 6-digit integral number uniquely assigned to each transaction. If this code starts with letter 'c', it indicates a cancellation. \n",
    "* StockCode: Product (item) code. Nominal, a 5-digit integral number uniquely assigned to each distinct product. \n",
    "* Description: Product (item) name. Nominal. \n",
    "* Quantity: The quantities of each product (item) per transaction. Numeric.\t\n",
    "* InvoiceDate: Invice Date and time. Numeric, the day and time when each transaction was generated. \n",
    "* UnitPrice: Unit price. Numeric, Product price per unit in sterling. \n",
    "* CustomerID: Customer number. Nominal, a 5-digit integral number uniquely assigned to each customer. \n",
    "* Country: Country name. Nominal, the name of the country where each customer resides.\n",
    "\n",
    "## Objective\n",
    "- Cluster customer into groups based on them loyalty"
   ]
  },
  {
   "cell_type": "code",
   "execution_count": 53,
   "metadata": {},
   "outputs": [
    {
     "name": "stdout",
     "output_type": "stream",
     "text": [
      "  InvoiceNo StockCode                          Description  Quantity  \\\n",
      "0    536365     22752         SET 7 BABUSHKA NESTING BOXES         2   \n",
      "1    536365     71053                  WHITE METAL LANTERN         6   \n",
      "2    536365    84029G  KNITTED UNION FLAG HOT WATER BOTTLE         6   \n",
      "3    536365    85123A   WHITE HANGING HEART T-LIGHT HOLDER         6   \n",
      "4    536366     22633               HAND WARMER UNION JACK         6   \n",
      "\n",
      "           InvoiceDate  UnitPrice  CustomerID         Country  \n",
      "0  2010-12-01 08:26:02       7.65     17850.0  United Kingdom  \n",
      "1  2010-12-01 08:26:02       3.39     17850.0  United Kingdom  \n",
      "2  2010-12-01 08:26:02       3.39     17850.0  United Kingdom  \n",
      "3  2010-12-01 08:26:02       2.55     17850.0  United Kingdom  \n",
      "4  2010-12-01 08:28:02       1.85     17850.0  United Kingdom  \n"
     ]
    }
   ],
   "source": [
    "## Import dataset into pandas dataframe\n",
    "raw_df=pd.read_csv(\"case_example/UK_retail_dataset/UKretail.csv\")\n",
    "print raw_df.head()"
   ]
  },
  {
   "cell_type": "code",
   "execution_count": 56,
   "metadata": {},
   "outputs": [
    {
     "name": "stdout",
     "output_type": "stream",
     "text": [
      "0    15.30\n",
      "1    20.34\n",
      "2    20.34\n",
      "3    15.30\n",
      "4    11.10\n",
      "dtype: float64\n"
     ]
    }
   ],
   "source": [
    "# Calculate revenue per transaction and append to dataframe\n",
    "revenue_per_transc=raw_df.Quantity*raw_df.UnitPrice\n",
    "\n",
    "print revenue_per_transc.head()"
   ]
  },
  {
   "cell_type": "code",
   "execution_count": 57,
   "metadata": {},
   "outputs": [
    {
     "name": "stdout",
     "output_type": "stream",
     "text": [
      "  InvoiceNo StockCode                          Description  Quantity  \\\n",
      "0    536365     22752         SET 7 BABUSHKA NESTING BOXES         2   \n",
      "1    536365     71053                  WHITE METAL LANTERN         6   \n",
      "2    536365    84029G  KNITTED UNION FLAG HOT WATER BOTTLE         6   \n",
      "3    536365    85123A   WHITE HANGING HEART T-LIGHT HOLDER         6   \n",
      "4    536366     22633               HAND WARMER UNION JACK         6   \n",
      "\n",
      "           InvoiceDate  UnitPrice  CustomerID         Country  RevenuePerTrans  \n",
      "0  2010-12-01 08:26:02       7.65     17850.0  United Kingdom            15.30  \n",
      "1  2010-12-01 08:26:02       3.39     17850.0  United Kingdom            20.34  \n",
      "2  2010-12-01 08:26:02       3.39     17850.0  United Kingdom            20.34  \n",
      "3  2010-12-01 08:26:02       2.55     17850.0  United Kingdom            15.30  \n",
      "4  2010-12-01 08:28:02       1.85     17850.0  United Kingdom            11.10  \n"
     ]
    }
   ],
   "source": [
    "# Append new series into original dataframe\n",
    "raw_df['RevenuePerTrans']=revenue_per_transc\n",
    "print raw_df.head()"
   ]
  },
  {
   "cell_type": "code",
   "execution_count": 58,
   "metadata": {},
   "outputs": [
    {
     "name": "stdout",
     "output_type": "stream",
     "text": [
      "[ 16029.  16250.  12431. ...,  13298.  14569.  12713.]\n"
     ]
    }
   ],
   "source": [
    "## Extract RFM features per user and store in a new DataFrame\n",
    "unique_customer_id=raw_df.CustomerID.unique()\n",
    "\n",
    "print unique_customer_id[10:]"
   ]
  },
  {
   "cell_type": "code",
   "execution_count": 59,
   "metadata": {},
   "outputs": [
    {
     "name": "stdout",
     "output_type": "stream",
     "text": [
      "  CustomerID Frequency Monetary Recency\n",
      "0    17850.0       175     2932     301\n",
      "1    13047.0       124     1926      31\n",
      "2    12583.0       157     4826       2\n",
      "3    15291.0        73     3020      25\n",
      "4    14688.0       223     3048       7\n"
     ]
    }
   ],
   "source": [
    "## Create empty dataframe for RFM data template\n",
    "df_RFM=pd.DataFrame(columns=['CustomerID','Recency','Frequency','Monetary'])\n",
    "\n",
    "## Iterate all data for each customer\n",
    "for customer_id in unique_customer_id:\n",
    "    \n",
    "    ## Eliminate customer_id with NaN value\n",
    "    if not np.isnan(customer_id):\n",
    "        \n",
    "        ## Obtain dataframe per customer_id\n",
    "        user_df=raw_df[raw_df.CustomerID==customer_id].drop(['CustomerID'], axis=1)\n",
    "        \n",
    "        ## Calculate per customer total revenue over 1 year\n",
    "        user_total_revenue=user_df.RevenuePerTrans.sum()\n",
    "        \n",
    "        ## Calculate per customer total transactione over 1 year\n",
    "        user_transaction_frequency=user_df.InvoiceNo.size\n",
    "        \n",
    "        ## Calculate recency time of user, calculated from the latest time recorded on dataset\n",
    "        user_recency=(pd.to_datetime(raw_df.InvoiceDate).max()-pd.to_datetime(user_df.InvoiceDate).max()).days\n",
    "\n",
    "        ## Collect user dataframe and append into RFM dataframe\n",
    "        df_temp = pd.DataFrame({'CustomerID': str(customer_id), \n",
    "                                'Recency': int(user_recency), \n",
    "                                'Frequency':int(user_transaction_frequency),\n",
    "                                'Monetary':int(user_total_revenue)},index=[0])\n",
    "        df_RFM=df_RFM.append(df_temp,ignore_index=True)\n",
    "\n",
    "print df_RFM.head()"
   ]
  },
  {
   "cell_type": "code",
   "execution_count": 60,
   "metadata": {},
   "outputs": [],
   "source": [
    "## Uncomment this line to write RFM data to csv\n",
    "# df_RFM.to_csv('case_example/UK_retail_dataset/customer_RFM_dataset.csv', sep=';')\n",
    "\n",
    "## Uncomment this line to read RFM data to csv\n",
    "df_RFM=pd.read_csv('case_example/UK_retail_dataset/customer_RFM_dataset.csv', sep=';')"
   ]
  },
  {
   "cell_type": "code",
   "execution_count": 61,
   "metadata": {},
   "outputs": [
    {
     "name": "stdout",
     "output_type": "stream",
     "text": [
      "Feature Recency Array :\n",
      "[[301]\n",
      " [31]\n",
      " [2]\n",
      " [25]\n",
      " [7]]\n",
      "Feature Frequency Array :\n",
      "[[175]\n",
      " [124]\n",
      " [157]\n",
      " [73]\n",
      " [223]]\n",
      "Feature Monetary Array :\n",
      "[[2932]\n",
      " [1926]\n",
      " [4826]\n",
      " [3020]\n",
      " [3048]]\n",
      "Normalized Recency Array :\n",
      "[[ 0.19302949]\n",
      " [ 0.91689008]\n",
      " [ 0.99463807]\n",
      " [ 0.93297587]\n",
      " [ 0.98123324]]\n",
      "Normalized Frequency Array :\n",
      "[[ 0.03639406]\n",
      " [ 0.02572684]\n",
      " [ 0.03262916]\n",
      " [ 0.01505961]\n",
      " [ 0.0464338 ]]\n",
      "Normalized Monetary Array :\n",
      "[[ 0.51865704]\n",
      " [ 0.51561285]\n",
      " [ 0.52438836]\n",
      " [ 0.51892334]\n",
      " [ 0.51900806]]\n"
     ]
    }
   ],
   "source": [
    "## Normalize all feature into range 0-1 \n",
    "feature_recency_array=df_RFM.Recency.as_matrix().copy().reshape(-1,1)\n",
    "feature_frequency_array=df_RFM.Frequency.as_matrix().copy().reshape(-1,1)\n",
    "feature_monetary_array=df_RFM.Monetary.as_matrix().copy().reshape(-1,1)\n",
    "print 'Feature Recency Array :'\n",
    "print feature_recency_array[:5]\n",
    "print 'Feature Frequency Array :'\n",
    "print feature_frequency_array[:5]\n",
    "print 'Feature Monetary Array :'\n",
    "print feature_monetary_array[:5]\n",
    "\n",
    "\n",
    "## For recency, we will normalize it in reverse, because smaller recency value is better\n",
    "recency_scaler = MinMaxScaler()\n",
    "feature_recency_array*=-1\n",
    "norm_recency_array=recency_scaler.fit_transform(feature_recency_array)\n",
    "print 'Normalized Recency Array :'\n",
    "print norm_recency_array[:5]\n",
    "\n",
    "frequency_scaler = MinMaxScaler()\n",
    "norm_frequency_array=frequency_scaler.fit_transform(feature_frequency_array)\n",
    "print 'Normalized Frequency Array :'\n",
    "print norm_frequency_array[:5]\n",
    "\n",
    "monetary_scaler = MinMaxScaler()\n",
    "norm_monetary_array=monetary_scaler.fit_transform(feature_monetary_array)\n",
    "print 'Normalized Monetary Array :'\n",
    "print norm_monetary_array[:5]\n"
   ]
  },
  {
   "cell_type": "code",
   "execution_count": 62,
   "metadata": {},
   "outputs": [
    {
     "name": "stdout",
     "output_type": "stream",
     "text": [
      "[[ 0.19302949  0.03639406  0.51865704]\n",
      " [ 0.91689008  0.02572684  0.51561285]\n",
      " [ 0.99463807  0.03262916  0.52438836]\n",
      " [ 0.93297587  0.01505961  0.51892334]\n",
      " [ 0.98123324  0.0464338   0.51900806]]\n",
      "Total number of feature vectors : 4324\n",
      "Total number of customer : 4324\n"
     ]
    }
   ],
   "source": [
    "## Append all feature array into 1 feature vectors, Each array will represent a customer profile\n",
    "feature_vectors=np.concatenate((norm_recency_array, norm_frequency_array,norm_monetary_array), axis=1)\n",
    "print feature_vectors[:5]\n",
    "                      \n",
    "print 'Total number of feature vectors : %i'%(len(feature_vectors))\n",
    "print 'Total number of customer : %i'%(df_RFM.CustomerID.size)"
   ]
  },
  {
   "cell_type": "code",
   "execution_count": 63,
   "metadata": {},
   "outputs": [
    {
     "data": {
      "text/plain": [
       "array([9, 0, 5, ..., 5, 5, 5], dtype=int32)"
      ]
     },
     "execution_count": 63,
     "metadata": {},
     "output_type": "execute_result"
    }
   ],
   "source": [
    "## Clustering using K-means clustering\n",
    "\n",
    "n_class=10 ## Total number of cluster we want\n",
    "kmeans = KMeans(n_clusters=n_class, random_state=0) # Initialize K-means clustering\n",
    "kmeans.fit(feature_vectors) # Fit the data into K-means model\n",
    "kmeans.labels_ # Resulting groups"
   ]
  },
  {
   "cell_type": "code",
   "execution_count": 64,
   "metadata": {},
   "outputs": [],
   "source": [
    "## Calculating reduced features using T-SNE for visualization in 2D space\n",
    "## The 3D features (recency,frequency, and monetary) will be reduced to 2D features\n",
    "\n",
    "tsne = TSNE(n_components=2)\n",
    "reduced_features = tsne.fit_transform(feature_vectors)\n"
   ]
  },
  {
   "cell_type": "code",
   "execution_count": 65,
   "metadata": {},
   "outputs": [
    {
     "data": {
      "image/png": "[encoded data removed]",
      "text/plain": [
       "<matplotlib.figure.Figure at 0x7f36a87b0f50>"
      ]
     },
     "metadata": {},
     "output_type": "display_data"
    }
   ],
   "source": [
    "## Visualization of reduced feature vectors in 2D\n",
    "def plot_scatter(values, cls):\n",
    "    import matplotlib.pyplot as plt\n",
    "    # Create a color-map with a different color for each class.\n",
    "    colors=[np.array([random.random(),random.random(),random.random()]) for label in np.unique(cls)]\n",
    "    # Extract the x- and y-values.\n",
    "    for i,color in enumerate(colors):\n",
    "        selected_values=values[np.argwhere(cls==i).flatten()]\n",
    "        x=selected_values[:,0]\n",
    "        y=selected_values[:,1]\n",
    "        plt.scatter(x, y, c=color, label=i,\n",
    "               alpha=0.7, edgecolors='none')\n",
    "\n",
    "    plt.legend()\n",
    "    plt.show()\n",
    "plot_scatter(reduced_features, kmeans.labels_)"
   ]
  },
  {
   "cell_type": "code",
   "execution_count": 68,
   "metadata": {},
   "outputs": [
    {
     "name": "stdout",
     "output_type": "stream",
     "text": [
      "Original feature vectors :\n",
      "[[  1.00000000e+00   3.19389249e-01   6.20032379e-01]\n",
      " [  9.94638070e-01   1.27588371e-01   5.24061550e-01]\n",
      " [  7.66756032e-01   8.36645053e-03   5.13881954e-01]\n",
      " ..., \n",
      " [  1.00000000e+00   2.09161263e-04   5.10874071e-01]\n",
      " [  1.00000000e+00   1.25496758e-03   5.10411087e-01]\n",
      " [  1.00000000e+00   3.97406400e-03   5.10913410e-01]]\n",
      "Summed feature vectors :\n",
      "[[ 1.93942163]\n",
      " [ 1.64628799]\n",
      " [ 1.28900444]\n",
      " ..., \n",
      " [ 1.51108323]\n",
      " [ 1.51166605]\n",
      " [ 1.51488747]]\n"
     ]
    }
   ],
   "source": [
    "## Obtain the sum of feature scores to detect customer with the highest score\n",
    "summed_score=np.sum(feature_vectors, axis=1)\n",
    "\n",
    "print 'Original feature vectors :'\n",
    "print feature_vectors[5:]\n",
    "print 'Summed feature vectors :'\n",
    "print summed_score[5:].reshape(-1,1)"
   ]
  },
  {
   "cell_type": "code",
   "execution_count": 70,
   "metadata": {},
   "outputs": [
    {
     "data": {
      "image/png": "[encoded data removed]",
      "text/plain": [
       "<matplotlib.figure.Figure at 0x7f36a8466910>"
      ]
     },
     "metadata": {},
     "output_type": "display_data"
    }
   ],
   "source": [
    "# Obtain class label per customer id\n",
    "class_labels=kmeans.labels_\n",
    "\n",
    "## Inspect the characteristic of score of each class and obtain total customer_id in each class groups\n",
    "total_data_per_class=dict()\n",
    "class_mean_score_collection=[]\n",
    "class_std_score_collection=[]\n",
    "for label in np.unique(class_labels):\n",
    "    class_score=summed_score[np.argwhere(class_labels==label).flatten()]\n",
    "    class_mean_score=np.mean(class_score)\n",
    "    class_std_score=np.std(class_score)\n",
    "    class_mean_score_collection.append(class_mean_score)\n",
    "    class_std_score_collection.append(class_std_score)\n",
    "    total_data_per_class[label]=len(class_score)\n",
    "\n",
    "## Order the class based on average of summed RFM score\n",
    "loyal_customer_class_order= np.argsort(class_mean_score_collection)\n",
    "\n",
    "ordered_class_mean=np.array(class_mean_score_collection)[loyal_customer_class_order]\n",
    "ordered_class_std=np.array(class_std_score_collection)[loyal_customer_class_order]\n",
    "\n",
    "## Visualize each groups summed RFM score mean and standard deviation\n",
    "import matplotlib.pyplot as plt\n",
    "fig, ax = plt.subplots()\n",
    "\n",
    "ind = np.arange(len(ordered_class_mean))  # the x locations for the groups\n",
    "width = 0.5  # the width of the bars\n",
    "\n",
    "ax.bar(ind, ordered_class_mean, width, yerr=ordered_class_std,color='SkyBlue')\n",
    "\n",
    "ax.set_ylabel('Average RFM Scores')\n",
    "ax.set_title('Mean and Std of RFM Scores in Each Customer Group')\n",
    "ax.set_xticks(ind)\n",
    "ax.set_xticklabels(('G'+str(i) for i in loyal_customer_class_order))\n",
    "ax.legend()"
   ]
  },
  {
   "cell_type": "code",
   "execution_count": 71,
   "metadata": {},
   "outputs": [
    {
     "data": {
      "image/png": "[encoded data removed]",
      "text/plain": [
       "<matplotlib.figure.Figure at 0x7f36a83be690>"
      ]
     },
     "metadata": {},
     "output_type": "display_data"
    }
   ],
   "source": [
    "## Sort class based on RFM sum score and visualize data distribution for each class\n",
    "\n",
    "ind = np.arange(n_class)  # the x locations for the groups\n",
    "width = 0.5       # the width of the bars\n",
    "total_customer_per_class=[total_data_per_class[i] for i in loyal_customer_class_order]\n",
    "\n",
    "import matplotlib.pyplot as plt\n",
    "fig, ax = plt.subplots()\n",
    "ax.bar(ind, total_customer_per_class, width, color='b')\n",
    "ax.set_ylabel('Total Customer')\n",
    "ax.set_xlabel('Customer Loyalty Group')\n",
    "ax.set_title('Class Distribution Ordered from Least to the Most Loyal Customer')\n",
    "ax.set_xticks(ind)\n",
    "ax.set_xticklabels(('G'+str(i) for i in loyal_customer_class_order))\n",
    "plt.show()"
   ]
  },
  {
   "cell_type": "code",
   "execution_count": null,
   "metadata": {},
   "outputs": [],
   "source": []
  }
 ],
 "metadata": {
  "kernelspec": {
   "display_name": "Python 2",
   "language": "python",
   "name": "python2"
  },
  "language_info": {
   "codemirror_mode": {
    "name": "ipython",
    "version": 2
   },
   "file_extension": ".py",
   "mimetype": "text/x-python",
   "name": "python",
   "nbconvert_exporter": "python",
   "pygments_lexer": "ipython2",
   "version": "2.7.12"
  }
 },
 "nbformat": 4,
 "nbformat_minor": 2
}
