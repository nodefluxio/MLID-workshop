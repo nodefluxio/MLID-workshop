{
 "cells": [
  {
   "cell_type": "markdown",
   "metadata": {},
   "source": [
    "#### Fungsi"
   ]
  },
  {
   "cell_type": "markdown",
   "metadata": {},
   "source": [
    "(1)"
   ]
  },
  {
   "cell_type": "code",
   "execution_count": 1,
   "metadata": {
    "collapsed": true
   },
   "outputs": [],
   "source": [
    "var1 = [1, 2, 3, 4]\n",
    "var2 = True\n",
    "\n",
    "# Print tipe dari var1\n",
    "\n",
    "\n",
    "# Print panjang dari var1\n",
    "\n",
    "\n",
    "# Konversi var2 menjadi integer kedalam variabel hasil_2\n",
    "\n"
   ]
  },
  {
   "cell_type": "markdown",
   "metadata": {},
   "source": [
    "(2) Bagaimanakah mencari panduan penggunaan dari fungsi complex()?"
   ]
  },
  {
   "cell_type": "code",
   "execution_count": 2,
   "metadata": {
    "collapsed": true
   },
   "outputs": [],
   "source": [
    "# Jawab disini"
   ]
  },
  {
   "cell_type": "markdown",
   "metadata": {},
   "source": [
    "(3)\n",
    "- lihat panduan sorted()\n",
    "- Selesaikan permasalah di bawah ini"
   ]
  },
  {
   "cell_type": "code",
   "execution_count": 5,
   "metadata": {},
   "outputs": [],
   "source": [
    "# Panduan sorted"
   ]
  },
  {
   "cell_type": "code",
   "execution_count": 6,
   "metadata": {
    "collapsed": true
   },
   "outputs": [],
   "source": [
    "first = [11.25, 18.0, 20.0]\n",
    "second = [10.75, 9.50]\n",
    "\n",
    "# Gabungkan list first dengan second simpan dengan nama variabel full\n",
    "\n",
    "\n",
    "# Urutkan full dengan descending order simpan pada variabel full_sorted \n",
    "\n",
    "\n",
    "# Print full_sorted\n"
   ]
  },
  {
   "cell_type": "markdown",
   "metadata": {},
   "source": [
    "#### Method"
   ]
  },
  {
   "cell_type": "markdown",
   "metadata": {},
   "source": [
    "(4)"
   ]
  },
  {
   "cell_type": "code",
   "execution_count": 7,
   "metadata": {
    "collapsed": true
   },
   "outputs": [],
   "source": [
    "room = \"poolhouse\"\n",
    "\n",
    "# Gunakan upper() pada room simpan pada variabel room_up\n",
    "\n",
    "\n",
    "\n",
    "# Print room dan room_up\n",
    "\n",
    "\n",
    "\n",
    "# Print berapa jumlah o dalam room gunakan count()\n"
   ]
  },
  {
   "cell_type": "markdown",
   "metadata": {},
   "source": [
    "(5)"
   ]
  },
  {
   "cell_type": "code",
   "execution_count": 8,
   "metadata": {
    "collapsed": true
   },
   "outputs": [],
   "source": [
    "area = [11.25, 18.0, 20.0, 10.75, 9.50]\n",
    "\n",
    "# Print hasilnya dengan menggunakan index() untuk mencari index dari 20.0 \n",
    "\n",
    "\n",
    "\n",
    "# Print  hasilnya dengan menggunakan count() berapa sering 14.5 muncul di area\n",
    "\n",
    "\n"
   ]
  },
  {
   "cell_type": "markdown",
   "metadata": {},
   "source": [
    "(6)"
   ]
  },
  {
   "cell_type": "code",
   "execution_count": 9,
   "metadata": {
    "collapsed": true
   },
   "outputs": [],
   "source": [
    "area = [11.25, 18.0, 20.0, 10.75, 9.50]\n",
    "\n",
    "# Gunakan append dua kali untuk menambahkan 24.5 dan 15.45\n",
    "\n",
    "\n",
    "\n",
    "# Print area\n",
    "\n",
    "\n",
    "# Balik urutan area dengan reverse()\n",
    "\n",
    "\n",
    "# Print area\n",
    "\n"
   ]
  },
  {
   "cell_type": "markdown",
   "metadata": {},
   "source": [
    "#### Packages"
   ]
  },
  {
   "cell_type": "markdown",
   "metadata": {},
   "source": [
    "(7)"
   ]
  },
  {
   "cell_type": "markdown",
   "metadata": {},
   "source": [
    "Masih ingat tentang lingkaran?\n",
    "$$ Keliling = 2\\pi r $$\n",
    "$$ Luas = \\pi r^2 $$\n",
    "\n",
    "- Kamu bisa mendapatkan pi dengan cara import math kemudian panggil dengan math.pi\n"
   ]
  },
  {
   "cell_type": "code",
   "execution_count": null,
   "metadata": {
    "collapsed": true
   },
   "outputs": [],
   "source": [
    "r = 0.43\n",
    "\n",
    "# import math\n",
    "\n",
    "\n",
    "# Hitung keliling simpan dalam variabel keliling\n",
    "\n",
    "\n",
    "# Hitung luas simpan dalam variabel luas\n",
    "\n",
    "\n",
    "# Selesaikan Print ini\n",
    "print(\"Keliling: \" + )\n",
    "print(\"Luas: \" + )"
   ]
  },
  {
   "cell_type": "markdown",
   "metadata": {},
   "source": [
    "(8) Jika sudah copy paste nomer 7 kemudian selesaikan hal tersebut dengan selective import from math import pi"
   ]
  },
  {
   "cell_type": "code",
   "execution_count": null,
   "metadata": {
    "collapsed": true
   },
   "outputs": [],
   "source": []
  }
 ],
 "metadata": {
  "kernelspec": {
   "display_name": "Python 3",
   "language": "python",
   "name": "python3"
  },
  "language_info": {
   "codemirror_mode": {
    "name": "ipython",
    "version": 3
   },
   "file_extension": ".py",
   "mimetype": "text/x-python",
   "name": "python",
   "nbconvert_exporter": "python",
   "pygments_lexer": "ipython3",
   "version": "3.6.1"
  }
 },
 "nbformat": 4,
 "nbformat_minor": 2
}
